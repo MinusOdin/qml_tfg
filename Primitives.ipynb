{
 "cells": [
  {
   "cell_type": "code",
   "execution_count": 1,
   "id": "8b0e0885-d351-4273-ae7e-26f5f117b027",
   "metadata": {},
   "outputs": [
    {
     "data": {
      "image/png": "[encoded data removed]",
      "text/plain": [
       "<Figure size 663.998x284.278 with 1 Axes>"
      ]
     },
     "execution_count": 1,
     "metadata": {},
     "output_type": "execute_result"
    }
   ],
   "source": [
    "from qiskit import QuantumCircuit\n",
    "\n",
    "qc = QuantumCircuit(2)\n",
    "qc.ry(0.5, 0)     # Rotació Ry sobre el qubit 0\n",
    "qc.rz(1.0, 0)     # Rotació Rz sobre el qubit 0\n",
    "qc.h(1)           # Porta Hadamard sobre el qubit 1\n",
    "qc.cx(0, 1)       # CNOT: control 0, target 1\n",
    "qc.measure_all()\n",
    "\n",
    "# Dibuixar i guardar com imatge\n",
    "qc.draw(output='mpl', filename='circuit_teo.png')  # necessita matplotlib"
   ]
  },
  {
   "cell_type": "code",
   "execution_count": 2,
   "id": "40ad67b7-434f-4ab5-a5de-d3b6e4a2b2f2",
   "metadata": {},
   "outputs": [
    {
     "name": "stdout",
     "output_type": "stream",
     "text": [
      "Resultat esperat (ideal): {'00': 497, '11': 527}\n"
     ]
    }
   ],
   "source": [
    "from qiskit import QuantumCircuit\n",
    "from qiskit_aer import AerSimulator\n",
    "from qiskit_ibm_runtime import Sampler, Session\n",
    "from qiskit.visualization import plot_histogram\n",
    "\n",
    "# Crear el circuit de Bell\n",
    "qc = QuantumCircuit(2, 2)\n",
    "qc.h(0)  # Porta Hadamard sobre el primer qubit\n",
    "qc.cx(0, 1)  # Porta CNOT (control = 0, destí = 1)\n",
    "qc.measure([0, 1], [0, 1])  # Mesura els dos qubits\n",
    "\n",
    "# Configuració del simulador ideal\n",
    "simulator = AerSimulator()\n",
    "\n",
    "# Simulació del circuit\n",
    "job = simulator.run(qc, shots=1024)\n",
    "result = job.result()\n",
    "counts = result.get_counts()\n",
    "\n",
    "# Mostrar el resultat\n",
    "print(\"Resultat esperat (ideal):\", counts)  # Esperat {'00': 0.5, '11': 0.5}\n",
    "\n",
    "# Visualitzar la distribució dels resultats\n",
    "hist = plot_histogram(counts)\n",
    "\n",
    "# Guardar la figura com a PNG\n",
    "hist.savefig(\"sampler_bell_histogram.png\", dpi=300, bbox_inches='tight')\n"
   ]
  },
  {
   "cell_type": "code",
   "execution_count": 3,
   "id": "23ca361b-b176-4547-9c97-e31cf39c0484",
   "metadata": {},
   "outputs": [
    {
     "name": "stdout",
     "output_type": "stream",
     "text": [
      "Valor esperat de l'observable ZZ: 1.0\n"
     ]
    }
   ],
   "source": [
    "from qiskit import QuantumCircuit\n",
    "from qiskit_ibm_runtime import Estimator, Session\n",
    "from qiskit.quantum_info import Pauli\n",
    "from qiskit_aer import AerSimulator\n",
    "\n",
    "# Crear el circuit de Bell\n",
    "qc = QuantumCircuit(2, 2)\n",
    "qc.h(0)  # Porta Hadamard sobre el primer qubit\n",
    "qc.cx(0, 1)  # Porta CNOT (control = 0, destí = 1)\n",
    "\n",
    "# Definir l'observable ZZ\n",
    "observable = Pauli('ZZ')\n",
    "backend = AerSimulator()\n",
    "\n",
    "# Crear un Estimator\n",
    "estimator = Estimator(mode=backend)\n",
    "\n",
    "# Passar el circuit i l'observable en una llista\n",
    "result = estimator.run([(qc, observable)]).result()[0]\n",
    "\n",
    "\n",
    "# Obtenir el valor esperat de l'observable\n",
    "expected_value = result.data.evs\n",
    "print(\"Valor esperat de l'observable ZZ:\", expected_value)  # Esperat: 1.0\n"
   ]
  },
  {
   "cell_type": "code",
   "execution_count": 4,
   "id": "fc6811e4-b857-490e-aef4-01cbad9e7286",
   "metadata": {},
   "outputs": [
    {
     "name": "stdout",
     "output_type": "stream",
     "text": [
      "NoiseModel:\n",
      "  Basis gates: ['cx', 'id', 'rz', 'sx', 'u1', 'u2', 'u3']\n",
      "  Instructions with noise: ['u2', 'reset', 'cx', 'u3', 'u1', 'measure']\n",
      "  All-qubits errors: ['reset', 'measure', 'u1', 'u2', 'u3', 'cx']\n"
     ]
    }
   ],
   "source": [
    "import numpy as np\n",
    "from qiskit import QuantumCircuit, transpile\n",
    "from qiskit.quantum_info import Kraus, SuperOp\n",
    "from qiskit_aer import AerSimulator\n",
    "from qiskit.visualization import plot_histogram\n",
    "\n",
    "# Import from Qiskit Aer noise module\n",
    "from qiskit_aer.noise import (NoiseModel, QuantumError, ReadoutError,\n",
    "    pauli_error, depolarizing_error, thermal_relaxation_error)\n",
    "\n",
    "# Example error probabilities\n",
    "p_reset = 0.005\n",
    "p_meas = 0.01\n",
    "p_gate1 = 0.01\n",
    "\n",
    "\n",
    "# QuantumError objects\n",
    "error_reset = pauli_error([('X', p_reset), ('I', 1 - p_reset)])\n",
    "error_meas = pauli_error([('X',p_meas), ('I', 1 - p_meas)])\n",
    "error_gate1 = pauli_error([('X',p_gate1), ('I', 1 - p_gate1)])\n",
    "error_gate2 = error_gate1.tensor(error_gate1)\n",
    "\n",
    "# Add errors to noise model\n",
    "noise_bit_flip = NoiseModel()\n",
    "noise_bit_flip.add_all_qubit_quantum_error(error_reset, \"reset\")\n",
    "noise_bit_flip.add_all_qubit_quantum_error(error_meas, \"measure\")\n",
    "noise_bit_flip.add_all_qubit_quantum_error(error_gate1, [\"u1\", \"u2\", \"u3\"])\n",
    "noise_bit_flip.add_all_qubit_quantum_error(error_gate2, [\"cx\"])\n",
    "\n",
    "print(noise_bit_flip)"
   ]
  },
  {
   "cell_type": "code",
   "execution_count": 5,
   "id": "cf620bcc-b017-47d8-b26b-43035dece598",
   "metadata": {},
   "outputs": [
    {
     "name": "stdout",
     "output_type": "stream",
     "text": [
      "Valor esperat de l'observable ZZ: 0.92041015625\n"
     ]
    }
   ],
   "source": [
    "from qiskit import QuantumCircuit\n",
    "from qiskit_ibm_runtime import Estimator, Session\n",
    "from qiskit.quantum_info import Pauli\n",
    "from qiskit_aer import AerSimulator\n",
    "\n",
    "# Crear el circuit de Bell\n",
    "qc = QuantumCircuit(2, 2)\n",
    "qc.h(0)  # Porta Hadamard sobre el primer qubit\n",
    "qc.cx(0, 1)  # Porta CNOT (control = 0, destí = 1)\n",
    "\n",
    "# Definir l'observable ZZ\n",
    "observable = Pauli('ZZ')\n",
    "backend = AerSimulator(noise_model=noise_bit_flip)\n",
    "\n",
    "# Crear un Estimator\n",
    "estimator = Estimator(mode=backend)\n",
    "\n",
    "# Passar el circuit i l'observable en una llista\n",
    "result = estimator.run([(qc, observable)]).result()[0]\n",
    "\n",
    "\n",
    "# Obtenir el valor esperat de l'observable\n",
    "expected_value = result.data.evs\n",
    "print(\"Valor esperat de l'observable ZZ:\", expected_value)  # Esperat: 1.0"
   ]
  }
 ],
 "metadata": {
  "kernelspec": {
   "display_name": "Python (qiskit-env)",
   "language": "python",
   "name": "qiskit-env"
  },
  "language_info": {
   "codemirror_mode": {
    "name": "ipython",
    "version": 3
   },
   "file_extension": ".py",
   "mimetype": "text/x-python",
   "name": "python",
   "nbconvert_exporter": "python",
   "pygments_lexer": "ipython3",
   "version": "3.12.3"
  }
 },
 "nbformat": 4,
 "nbformat_minor": 5
}
